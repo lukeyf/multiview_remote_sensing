{
 "cells": [
  {
   "cell_type": "code",
   "execution_count": 12,
   "metadata": {},
   "outputs": [
    {
     "name": "stdout",
     "output_type": "stream",
     "text": [
      "Test scores for each fold: [0.20089749311422922, 0.20050954389394657, 0.20436646844858505, 0.2072502961518725, 0.20511387654151716]\n",
      "Average test score across all folds: 0.2036275356300301\n"
     ]
    }
   ],
   "source": [
    "import numpy as np\n",
    "from sklearn.linear_model import RidgeCV\n",
    "from sklearn.metrics import mean_absolute_error\n",
    "\n",
    "# Define file paths and parameters\n",
    "num_folds = 5\n",
    "par_folder = 'features/94873a83-d/'\n",
    "train_files = [f'{par_folder}train_finetuned_{i}.npy' for i in range(1, num_folds + 1)]\n",
    "test_files = [f'{par_folder}test_finetuned_{i}.npy' for i in range(1, num_folds + 1)]\n",
    "\n",
    "# Initialize a list to store test scores\n",
    "test_scores = []\n",
    "\n",
    "for fold in range(num_folds):\n",
    "    # Load training and test data for the current fold\n",
    "    train_data = np.load(train_files[fold])\n",
    "    test_data = np.load(test_files[fold])\n",
    "    \n",
    "    # Split features and targets\n",
    "    X_train, y_train = train_data[:, :1024], train_data[:, 1024]\n",
    "    X_test, y_test = test_data[:, :1024], test_data[:, 1024]\n",
    "    \n",
    "    # Initialize and fit RidgeCV model\n",
    "    alphas = np.logspace(-6, 6, 15)\n",
    "    model = RidgeCV(alphas=alphas)\n",
    "    model.fit(X_train, y_train)\n",
    "    \n",
    "    # Make predictions on the test set\n",
    "    y_pred = model.predict(X_test)\n",
    "    \n",
    "    # Calculate and store the mean squared error for the current fold\n",
    "    mse = mean_absolute_error(y_test, y_pred)\n",
    "    test_scores.append(mse)\n",
    "\n",
    "# Calculate average test score across all folds\n",
    "average_test_score = np.mean(test_scores)\n",
    "\n",
    "print(\"Test scores for each fold:\", test_scores)\n",
    "print(\"Average test score across all folds:\", average_test_score)"
   ]
  },
  {
   "cell_type": "code",
   "execution_count": 13,
   "metadata": {},
   "outputs": [
    {
     "name": "stdout",
     "output_type": "stream",
     "text": [
      "Best alpha: 51.79474679231202\n"
     ]
    }
   ],
   "source": [
    "best_alpha = model.alpha_\n",
    "print(\"Best alpha:\", best_alpha)"
   ]
  },
  {
   "cell_type": "code",
   "execution_count": 1,
   "metadata": {},
   "outputs": [
    {
     "name": "stdout",
     "output_type": "stream",
     "text": [
      "Test scores for each fold: [0.42383190352737227, 0.556251939667463]\n",
      "Average test score across all folds: 0.49004192159741766\n"
     ]
    }
   ],
   "source": [
    "import numpy as np\n",
    "from sklearn.linear_model import RidgeCV\n",
    "from sklearn.metrics import mean_absolute_error\n",
    "par_folder = 'features/330b6657-1/'\n",
    "\n",
    "train_files = [f'{par_folder}train_finetuned_{0}.npy', f'{par_folder}train_raw_{0}.npy']\n",
    "test_files = [f'{par_folder}test_finetuned_{0}.npy', f'{par_folder}test_raw_{0}.npy']\n",
    "\n",
    "# Initialize a list to store test scores\n",
    "test_scores = []\n",
    "\n",
    "for fold in range(len(train_files)):\n",
    "    # Load training and test data for the current fold\n",
    "    train_data = np.load(train_files[fold])\n",
    "    test_data = np.load(test_files[fold])\n",
    "    \n",
    "    # Split features and targets\n",
    "    X_train, y_train = train_data[:, :1024], train_data[:, 1024]\n",
    "    X_test, y_test = test_data[:, :1024], test_data[:, 1024]\n",
    "    \n",
    "    # Initialize and fit RidgeCV model\n",
    "    alphas = np.logspace(-6, 6, 10)\n",
    "    model = RidgeCV(alphas=alphas)\n",
    "    model.fit(X_train, y_train)\n",
    "    \n",
    "    # Make predictions on the test set\n",
    "    y_pred = model.predict(X_test).clip(0,1)\n",
    "    \n",
    "    # Calculate and store the mean squared error for the current fold\n",
    "    mse = mean_absolute_error(y_test, y_pred)\n",
    "    test_scores.append(mse)\n",
    "\n",
    "# Calculate average test score across all folds\n",
    "average_test_score = np.mean(test_scores)\n",
    "\n",
    "print(\"Test scores for each fold:\", test_scores)\n",
    "print(\"Average test score across all folds:\", average_test_score)"
   ]
  },
  {
   "cell_type": "code",
   "execution_count": 2,
   "metadata": {},
   "outputs": [
    {
     "name": "stdout",
     "output_type": "stream",
     "text": [
      "Test scores for each fold: [0.4162707082087792, 0.3841616926505785]\n",
      "Average test score across all folds: 0.40021620042967887\n"
     ]
    }
   ],
   "source": [
    "import numpy as np\n",
    "from sklearn.linear_model import RidgeCV\n",
    "from sklearn.metrics import mean_absolute_error\n",
    "par_folder = 'features/afb6d2ed-b/'\n",
    "\n",
    "train_files = [f'{par_folder}train_finetuned_{0}.npy', f'{par_folder}train_raw_{0}.npy']\n",
    "test_files = [f'{par_folder}test_finetuned_{0}.npy', f'{par_folder}test_raw_{0}.npy']\n",
    "\n",
    "# Initialize a list to store test scores\n",
    "test_scores = []\n",
    "\n",
    "for fold in range(len(train_files)):\n",
    "    # Load training and test data for the current fold\n",
    "    train_data = np.load(train_files[fold])\n",
    "    test_data = np.load(test_files[fold])\n",
    "    \n",
    "    # Split features and targets\n",
    "    X_train, y_train = train_data[:, :1024], train_data[:, 1024]\n",
    "    X_test, y_test = test_data[:, :1024], test_data[:, 1024]\n",
    "    \n",
    "    # Initialize and fit RidgeCV model\n",
    "    alphas = np.logspace(-6, 6, 10)\n",
    "    model = RidgeCV(alphas=alphas)\n",
    "    model.fit(X_train, y_train)\n",
    "    \n",
    "    # Make predictions on the test set\n",
    "    y_pred = model.predict(X_test).clip(0,1)\n",
    "    \n",
    "    # Calculate and store the mean squared error for the current fold\n",
    "    mse = mean_absolute_error(y_test, y_pred)\n",
    "    test_scores.append(mse)\n",
    "\n",
    "# Calculate average test score across all folds\n",
    "average_test_score = np.mean(test_scores)\n",
    "\n",
    "print(\"Test scores for each fold:\", test_scores)\n",
    "print(\"Average test score across all folds:\", average_test_score)"
   ]
  },
  {
   "cell_type": "code",
   "execution_count": 5,
   "metadata": {},
   "outputs": [
    {
     "data": {
      "text/plain": [
       "(11113, 1025)"
      ]
     },
     "execution_count": 5,
     "metadata": {},
     "output_type": "execute_result"
    }
   ],
   "source": [
    "train_data.shape"
   ]
  },
  {
   "cell_type": "code",
   "execution_count": 2,
   "metadata": {},
   "outputs": [
    {
     "name": "stdout",
     "output_type": "stream",
     "text": [
      "Subfolder: gc, Created on: 2024-11-11 09:47:05\n",
      "Subfolder: e3d99309-6, Created on: 2025-01-06 11:14:47\n",
      "Subfolder: 3af9468e-2, Created on: 2025-01-06 11:17:41\n",
      "Subfolder: 165499c6-6, Created on: 2025-01-06 11:23:23\n",
      "Subfolder: 47a635ea-5, Created on: 2025-01-06 11:30:00\n",
      "Subfolder: ceb94742-a, Created on: 2025-01-06 11:30:39\n",
      "Subfolder: 6515d153-0, Created on: 2025-01-06 11:32:05\n",
      "Subfolder: f2378939-e, Created on: 2025-01-06 11:32:52\n",
      "Subfolder: a61c2fc1-6, Created on: 2025-01-06 11:34:05\n",
      "Subfolder: 3c769df6-a, Created on: 2025-01-06 11:38:21\n",
      "Subfolder: dd6fbedc-d, Created on: 2025-01-06 12:48:13\n",
      "Subfolder: 3cd529bf-3, Created on: 2025-01-06 14:33:55\n",
      "Subfolder: a814a074-f, Created on: 2025-02-01 02:23:18\n",
      "Subfolder: 0d29294f-6, Created on: 2025-02-01 02:33:07\n",
      "Subfolder: 5c719ae5-1, Created on: 2025-02-01 02:36:19\n",
      "Subfolder: 8dd9acb6-3, Created on: 2025-02-01 02:37:25\n",
      "Subfolder: 29395816-b, Created on: 2025-02-02 08:09:26\n",
      "Subfolder: 4b761580-4, Created on: 2025-02-02 08:18:50\n"
     ]
    }
   ],
   "source": [
    "import os\n",
    "import datetime\n",
    "\n",
    "# Specify the directory to scan\n",
    "directory_path = \"/home/cs-yang3/rds/rds-t2-cs177-KNoCjrg2atA/cs-yang3/code/KidSat/modelling/satmae/features\"\n",
    "\n",
    "\n",
    "# Collect subdirectories and their creation times in a list\n",
    "subfolders = []\n",
    "with os.scandir(directory_path) as entries:\n",
    "    for entry in entries:\n",
    "        if entry.is_dir():\n",
    "            creation_timestamp = os.path.getctime(entry.path)\n",
    "            subfolders.append((entry.name, creation_timestamp))\n",
    "\n",
    "# Sort the subfolders by creation timestamp (ascending order)\n",
    "subfolders.sort(key=lambda x: x[1])\n",
    "\n",
    "# Print out each subfolder's name and formatted creation date\n",
    "for name, creation_timestamp in subfolders:\n",
    "    creation_date = datetime.datetime.fromtimestamp(creation_timestamp)\n",
    "    formatted_date = creation_date.strftime('%Y-%m-%d %H:%M:%S')\n",
    "    print(f\"Subfolder: {name}, Created on: {formatted_date}\")"
   ]
  },
  {
   "cell_type": "code",
   "execution_count": 3,
   "metadata": {},
   "outputs": [
    {
     "data": {
      "text/plain": [
       "array([1.00000000e-06, 2.15443469e-05, 4.64158883e-04, 1.00000000e-02,\n",
       "       2.15443469e-01, 4.64158883e+00, 1.00000000e+02, 2.15443469e+03,\n",
       "       4.64158883e+04, 1.00000000e+06])"
      ]
     },
     "execution_count": 3,
     "metadata": {},
     "output_type": "execute_result"
    }
   ],
   "source": [
    "alphas"
   ]
  },
  {
   "cell_type": "code",
   "execution_count": null,
   "metadata": {},
   "outputs": [],
   "source": []
  }
 ],
 "metadata": {
  "kernelspec": {
   "display_name": "sat",
   "language": "python",
   "name": "python3"
  },
  "language_info": {
   "codemirror_mode": {
    "name": "ipython",
    "version": 3
   },
   "file_extension": ".py",
   "mimetype": "text/x-python",
   "name": "python",
   "nbconvert_exporter": "python",
   "pygments_lexer": "ipython3",
   "version": "3.10.14"
  }
 },
 "nbformat": 4,
 "nbformat_minor": 2
}
