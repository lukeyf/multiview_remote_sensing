{
 "cells": [
  {
   "cell_type": "code",
   "execution_count": 12,
   "metadata": {},
   "outputs": [
    {
     "name": "stdout",
     "output_type": "stream",
     "text": [
      "Test scores for each fold: [0.20089749311422922, 0.20050954389394657, 0.20436646844858505, 0.2072502961518725, 0.20511387654151716]\n",
      "Average test score across all folds: 0.2036275356300301\n"
     ]
    }
   ],
   "source": [
    "import numpy as np\n",
    "from sklearn.linear_model import RidgeCV\n",
    "from sklearn.metrics import mean_absolute_error\n",
    "\n",
    "# Define file paths and parameters\n",
    "num_folds = 5\n",
    "par_folder = 'features/94873a83-d/'\n",
    "train_files = [f'{par_folder}train_finetuned_{i}.npy' for i in range(1, num_folds + 1)]\n",
    "test_files = [f'{par_folder}test_finetuned_{i}.npy' for i in range(1, num_folds + 1)]\n",
    "\n",
    "# Initialize a list to store test scores\n",
    "test_scores = []\n",
    "\n",
    "for fold in range(num_folds):\n",
    "    # Load training and test data for the current fold\n",
    "    train_data = np.load(train_files[fold])\n",
    "    test_data = np.load(test_files[fold])\n",
    "    \n",
    "    # Split features and targets\n",
    "    X_train, y_train = train_data[:, :1024], train_data[:, 1024]\n",
    "    X_test, y_test = test_data[:, :1024], test_data[:, 1024]\n",
    "    \n",
    "    # Initialize and fit RidgeCV model\n",
    "    alphas = np.logspace(-6, 6, 15)\n",
    "    model = RidgeCV(alphas=alphas)\n",
    "    model.fit(X_train, y_train)\n",
    "    \n",
    "    # Make predictions on the test set\n",
    "    y_pred = model.predict(X_test)\n",
    "    \n",
    "    # Calculate and store the mean squared error for the current fold\n",
    "    mse = mean_absolute_error(y_test, y_pred)\n",
    "    test_scores.append(mse)\n",
    "\n",
    "# Calculate average test score across all folds\n",
    "average_test_score = np.mean(test_scores)\n",
    "\n",
    "print(\"Test scores for each fold:\", test_scores)\n",
    "print(\"Average test score across all folds:\", average_test_score)"
   ]
  },
  {
   "cell_type": "code",
   "execution_count": 13,
   "metadata": {},
   "outputs": [
    {
     "name": "stdout",
     "output_type": "stream",
     "text": [
      "Best alpha: 51.79474679231202\n"
     ]
    }
   ],
   "source": [
    "best_alpha = model.alpha_\n",
    "print(\"Best alpha:\", best_alpha)"
   ]
  },
  {
   "cell_type": "code",
   "execution_count": null,
   "metadata": {},
   "outputs": [],
   "source": []
  }
 ],
 "metadata": {
  "kernelspec": {
   "display_name": "sat",
   "language": "python",
   "name": "python3"
  },
  "language_info": {
   "codemirror_mode": {
    "name": "ipython",
    "version": 3
   },
   "file_extension": ".py",
   "mimetype": "text/x-python",
   "name": "python",
   "nbconvert_exporter": "python",
   "pygments_lexer": "ipython3",
   "version": "3.10.14"
  }
 },
 "nbformat": 4,
 "nbformat_minor": 2
}
